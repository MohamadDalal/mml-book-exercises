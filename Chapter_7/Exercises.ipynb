{
 "cells": [
  {
   "cell_type": "markdown",
   "metadata": {},
   "source": [
    "# Chapter 7 Exercises"
   ]
  },
  {
   "cell_type": "markdown",
   "metadata": {},
   "source": [
    "## Exercise 1\n",
    "![Exercise 1](Images/Exercise1.png)"
   ]
  },
  {
   "cell_type": "markdown",
   "metadata": {},
   "source": [
    "It is possible to find the stationary points by differentiating then finding x when the differential equals 0:\n",
    "$$\\frac{d(f(x))}{dx}=3x^2+12x-3=0\\Leftrightarrow x^2+4x-1=0$$\n",
    "$$x=\\frac{-4\\pm \\sqrt{16+4}}{2}\\Leftrightarrow x=\\frac{-4+\\sqrt{20}}{2}=-2+\\sqrt{5} \\vee x=\\frac{-4-\\sqrt{20}}{2}=-2-\\sqrt{5}$$\n",
    "\n",
    "Since it is a qubic equation, then it either has one local minimum and one local maximum, or it has a dual saddle point. In this case it has one local maximum at $x=-2-\\sqrt{5}$ and one local minimum at $x=-2+\\sqrt{5}$, because the $x^3$ is positive, meaning it goes upwards."
   ]
  },
  {
   "cell_type": "markdown",
   "metadata": {},
   "source": [
    "## Exercise 2\n",
    "![Exercise 2](Images/Exercise2.png)"
   ]
  },
  {
   "cell_type": "markdown",
   "metadata": {},
   "source": [
    "The equation is:\n",
    "$$\\mathbf{\\theta}_{i+1}=\\mathbf{\\theta}_i-\\gamma_i(\\nabla L(\\mathbf{\\theta}_i))^\\intercal=\\mathbf{\\theta}_i-\\gamma_i \\sum_{n=1}^{N}{(\\nabla L_n(\\mathbf{\\theta}_i))^\\intercal}$$\n",
    "This consideres the full batch of size N. When using a mini-batch size of one we have $N=1$:\n",
    "$$\\mathbf{\\theta}_{i+1}=\\mathbf{\\theta}_i-\\gamma_i(\\nabla L_1(\\mathbf{\\theta}_i))^\\intercal=\n",
    "  \\begin{bmatrix}\\theta_{i_1}-\\gamma_i \\frac{\\partial(L_1(\\mathbf{\\theta}_i))}{\\partial \\theta_{i_1}}\\\\\n",
    "                 \\theta_{i_2}-\\gamma_i \\frac{\\partial(L_1(\\mathbf{\\theta}_i))}{\\partial \\theta_{i_2}}\\\\\n",
    "                 \\vdots \\\\\n",
    "                 \\theta_{i_m}-\\gamma_i \\frac{\\partial(L_1(\\mathbf{\\theta}_i))}{\\partial \\theta_{i_m}}\\\\\\end{bmatrix}\n",
    "                 ,\\; \\mathbf{\\theta} \\in \\mathbb{R}^m$$"
   ]
  },
  {
   "cell_type": "markdown",
   "metadata": {},
   "source": [
    "## Exercise 3\n",
    "![Exercise 3](Images/Exercise3.png)"
   ]
  },
  {
   "cell_type": "markdown",
   "metadata": {},
   "source": [
    "### Sub Exercise a\n",
    "True\n",
    "\n",
    "\n",
    "A set is convex if for all pairs $x,y$ in the set we have $\\theta x+(1-\\theta)y$, where $0\\leq\\theta\\leq 1$, is also in the set.\n",
    "\n",
    "Consider two convex sets $C_1$ and $C_2$. Their intersection $C_1 \\cap C_2$ includes all points that are in both sets. Consider x and y in this intersection, if the intersection is convex then we have:\n",
    "$$z=\\theta x+(1-\\theta)y\\in C_1\\cap C_2, \\: 0\\leq \\theta \\leq 1$$\n",
    "Now because $C_1$ is convex, we know that z exists in $C_1$. Now if $C_1 \\cap C_2$ was not convex, then this means that z is in $C_1$ but is not in $C_2$. However, since $C_2$ is convex then z has to be in $C_2$. This proves that if both $C_1$ and $C_2$ are convex, then their intersection is also a convex set."
   ]
  },
  {
   "cell_type": "markdown",
   "metadata": {},
   "source": [
    "### Sub Exercise b\n",
    "False\n",
    "\n",
    "Consider two convex sets $C_1$ and $C_2$ that do not intersect. Their union $C_1 \\cup C_2$ is not convex because for $x\\in C_1$ and $y\\in C_2$ there is for some $\\theta$ a point $\\theta x + (1-\\theta)y$ that is not in any of the two sets."
   ]
  },
  {
   "cell_type": "markdown",
   "metadata": {},
   "source": [
    "### Sub Exercise c\n",
    "False\n",
    "\n",
    "Consider two convex sets $C_1$ and $C_2$ that look like circles, spheres, hyper-spheres you choose the dimensions. If they interesect, then the difference between the circle $C_1$ from the circle $C_2$ leads to crescent shape which is obviously not convex. Hence proved by common sense."
   ]
  },
  {
   "cell_type": "markdown",
   "metadata": {},
   "source": [
    "## Exercise 4\n",
    "![Exercise 4](Images/Exercise4.png)"
   ]
  },
  {
   "cell_type": "markdown",
   "metadata": {},
   "source": [
    "### Sub Exercise a\n",
    "True\n",
    "\n",
    "Consider the sum of two convex functions $f(\\mathbf{x})$ and $g(\\mathbf{x})$ being $h(\\mathbf{x})=f(\\mathbf{x})+g(\\mathbf{x})$. if $h(\\mathbf{x})$ is convex then we have:\n",
    "$$h(\\mathbf{y})\\geq h(\\mathbf{x})+\\nabla_{\\mathbf{x}}h(\\mathbf{x})^\\intercal (\\mathbf{y-x})$$\n",
    "$$f(\\mathbf{y})+g(\\mathbf{y})\\geq f(\\mathbf{x})+g(\\mathbf{x})+\\nabla_{\\mathbf{x}}(f(\\mathbf{x})+g(\\mathbf{x}))^\\intercal (\\mathbf{y-x})$$\n",
    "$$f(\\mathbf{y})+g(\\mathbf{y})\\geq f(\\mathbf{x})+g(\\mathbf{x})+(\\nabla_{\\mathbf{x}}f(\\mathbf{x})+\\nabla_{\\mathbf{x}}g(\\mathbf{x}))^\\intercal (\\mathbf{y-x})$$\n",
    "$$f(\\mathbf{y})+g(\\mathbf{y})\\geq f(\\mathbf{x})+\\nabla_{\\mathbf{x}}f(\\mathbf{x})^\\intercal (\\mathbf{y-x})+g(\\mathbf{x})+\\nabla_{\\mathbf{x}}g(\\mathbf{x})^\\intercal (\\mathbf{y-x})$$\n",
    "\n",
    "Since $f(\\mathbf{y})\\geq f(\\mathbf{x})+\\nabla_{\\mathbf{x}}f(\\mathbf{x})^\\intercal (\\mathbf{y-x})$ and $g(\\mathbf{y})\\geq g(\\mathbf{x})+\\nabla_{\\mathbf{x}}g(\\mathbf{x})^\\intercal (\\mathbf{y-x})$ then the above inequality holds, and the sum of two convex functions is convex."
   ]
  },
  {
   "cell_type": "markdown",
   "metadata": {},
   "source": [
    "### Sub Exercise b\n",
    "True\n",
    "\n",
    "Through the same logic as above, the sum of two conex functions is convex."
   ]
  },
  {
   "cell_type": "markdown",
   "metadata": {},
   "source": [
    "### Sub Exercise c\n",
    "\n",
    "Consider the sum of two convex functions $f(\\mathbf{x})$ and $g(\\mathbf{x})$ being $h(\\mathbf{x})=f(\\mathbf{x})g(\\mathbf{x})$. if $h(\\mathbf{x})$ is convex then we have:\n",
    "$$h(\\mathbf{y})\\geq h(\\mathbf{x})+\\nabla_{\\mathbf{x}}h(\\mathbf{x})^\\intercal (\\mathbf{y-x})$$\n",
    "$$f(\\mathbf{y})g(\\mathbf{y})\\geq f(\\mathbf{x})g(\\mathbf{x})+\\nabla_{\\mathbf{x}}(f(\\mathbf{x})g(\\mathbf{x}))^\\intercal (\\mathbf{y-x})$$\n",
    "$$f(\\mathbf{y})g(\\mathbf{y})\\geq f(\\mathbf{x})g(\\mathbf{x})+(\\nabla_{\\mathbf{x}}(f(\\mathbf{x})g(\\mathbf{x})))^\\intercal (\\mathbf{y-x})$$\n",
    "$$f(\\mathbf{y})g(\\mathbf{y})\\geq f(\\mathbf{x})g(\\mathbf{x})+(f(\\mathbf{x})\\nabla_{\\mathbf{x}}g(\\mathbf{x})+\\nabla_{\\mathbf{x}}f(\\mathbf{x})g(\\mathbf{x}))^\\intercal (\\mathbf{y-x})$$\n",
    "$$f(\\mathbf{y})g(\\mathbf{y})\\geq f(\\mathbf{x})g(\\mathbf{x})+(f(\\mathbf{x})\\nabla_{\\mathbf{x}}g(\\mathbf{x}))^\\intercal (\\mathbf{y-x})+(\\nabla_{\\mathbf{x}}f(\\mathbf{x})g(\\mathbf{x}))^\\intercal (\\mathbf{y-x})$$\n",
    "$$f(\\mathbf{y})g(\\mathbf{y})\\geq f(\\mathbf{x})g(\\mathbf{x})+f(\\mathbf{x})\\nabla_{\\mathbf{x}}g(\\mathbf{x})^\\intercal (\\mathbf{y-x})+g(\\mathbf{x})\\nabla_{\\mathbf{x}}f(\\mathbf{x})^\\intercal (\\mathbf{y-x})$$\n",
    "$$f(\\mathbf{y})g(\\mathbf{y})\\geq f(\\mathbf{x})(g(\\mathbf{x})+\\nabla_{\\mathbf{x}}g(\\mathbf{x})^\\intercal (\\mathbf{y-x}))+g(\\mathbf{x})\\nabla_{\\mathbf{x}}f(\\mathbf{x})^\\intercal (\\mathbf{y-x})$$\n",
    "\n"
   ]
  },
  {
   "cell_type": "markdown",
   "metadata": {},
   "source": [
    "False\n",
    "\n",
    "I think I found a counter example. Consider convex $f(x)$ and convex $g(x)=-1$. Not consider the product of these two convex functions $h(x)=f(x)g(x)=-f(x)$. Using this we show that if:\n",
    "$$f(y)\\geq f(x)+\\nabla_{x}f(x)^\\intercal (y-x)$$\n",
    "Then by multiplying both sides by $g(x)$ we get:\n",
    "$$-f(y)\\leq -f(x)-\\nabla_{x}f(x)^\\intercal (y-x)\\Leftrightarrow h(y)\\leq h(x)+\\nabla_{x}h(x)^\\intercal (y-x)$$\n",
    "Showing that the product of two convex functions is not always convex."
   ]
  },
  {
   "cell_type": "markdown",
   "metadata": {},
   "source": [
    "True\n",
    "\n",
    "When taking the max of two convex functions we have to consider 2 cases. Case one is that both $f(y)$ and $f(x)$ are bigger than $g(x)$ and $g(y)$. The other case is that $f(y)$ is bigger than $g(y)$, but f(x) is smaller than g(x). In the first case:\n",
    "$$max(f(y),g(y))=f(y)\\geq f(x)+\\nabla_{x}f(x)^\\intercal (y-x)=max(f(x),g(x))+\\nabla_{x}max(f(x),g(x))^\\intercal (y-x)$$\n",
    "Is true because $f(x)$ is convex. For the second case:\n",
    "$$max(f(y),g(y))=g(y)\\geq f(x)\\geq f(x)+\\nabla_{x}f(x)^\\intercal (y-x)=max(f(x),g(x))+\\nabla_{x}max(f(x),g(x))^\\intercal (y-x)$$\n",
    "Is also true because $f(x)$ is convex. The same reasoning works for when both $g(x)$ and $g(y)$ are bigger than $f(x)$ and $f(y)$ and when $g(y)$ is bigger than $f(y)$ but $f(x)$ is bigger than $g(x)$."
   ]
  },
  {
   "cell_type": "markdown",
   "metadata": {},
   "source": [
    "## Exercise 5\n",
    "![Exercise 5](Images/Exercise5.png)"
   ]
  },
  {
   "cell_type": "markdown",
   "metadata": {},
   "source": [
    "## Exercise 6\n",
    "![Exercise 6](Images/Exercise6.png)"
   ]
  },
  {
   "cell_type": "markdown",
   "metadata": {},
   "source": [
    "## Exercise 7\n",
    "![Exercise 7](Images/Exercise7.png)"
   ]
  },
  {
   "cell_type": "markdown",
   "metadata": {},
   "source": [
    "## Exercise 8\n",
    "![Exercise 8](Images/Exercise8.png)"
   ]
  },
  {
   "cell_type": "markdown",
   "metadata": {},
   "source": [
    "## Exercise 9\n",
    "![Exercise 9](Images/Exercise9.png)"
   ]
  },
  {
   "cell_type": "markdown",
   "metadata": {},
   "source": [
    "## Exercise 10\n",
    "![Exercise 10](Images/Exercise10.png)"
   ]
  },
  {
   "cell_type": "markdown",
   "metadata": {},
   "source": [
    "## Exercise 11\n",
    "![Exercise 11](Images/Exercise11.png)"
   ]
  }
 ],
 "metadata": {
  "language_info": {
   "name": "python"
  },
  "orig_nbformat": 4
 },
 "nbformat": 4,
 "nbformat_minor": 2
}
