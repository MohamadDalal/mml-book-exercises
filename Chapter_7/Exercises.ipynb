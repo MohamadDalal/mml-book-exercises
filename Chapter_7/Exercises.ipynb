{
 "cells": [
  {
   "cell_type": "markdown",
   "metadata": {},
   "source": [
    "# Chapter 7 Exercises"
   ]
  },
  {
   "cell_type": "markdown",
   "metadata": {},
   "source": [
    "## Exercise 1\n",
    "![Exercise 1](Images/Exercise1.png)"
   ]
  },
  {
   "cell_type": "markdown",
   "metadata": {},
   "source": [
    "It is possible to find the stationary points by differentiating then finding x when the differential equals 0:\n",
    "$$\\frac{d(f(x))}{dx}=3x^2+12x-3=0\\Leftrightarrow x^2+4x-1=0$$\n",
    "$$x=\\frac{-4\\pm \\sqrt{16+4}}{2}\\Leftrightarrow x=\\frac{-4+\\sqrt{20}}{2}=-2+\\sqrt{5} \\vee x=\\frac{-4-\\sqrt{20}}{2}=-2-\\sqrt{5}$$\n",
    "\n",
    "Since it is a qubic equation, then it either has one local minimum and one local maximum, or it has a dual saddle point. In this case it has one local maximum at $x=-2-\\sqrt{5}$ and one local minimum at $x=-2+\\sqrt{5}$, because the $x^3$ is positive, meaning it goes upwards."
   ]
  },
  {
   "cell_type": "markdown",
   "metadata": {},
   "source": [
    "## Exercise 2\n",
    "![Exercise 2](Images/Exercise2.png)"
   ]
  },
  {
   "cell_type": "markdown",
   "metadata": {},
   "source": [
    "The equation is:\n",
    "$$\\mathbf{\\theta}_{i+1}=\\mathbf{\\theta}_i-\\gamma_i(\\nabla L(\\mathbf{\\theta}_i))^\\intercal=\\mathbf{\\theta}_i-\\gamma_i \\sum_{n=1}^{N}{(\\nabla L_n(\\mathbf{\\theta}_i))^\\intercal}$$\n",
    "This consideres the full batch of size N. When using a mini-batch size of one we have $N=1$:\n",
    "$$\\mathbf{\\theta}_{i+1}=\\mathbf{\\theta}_i-\\gamma_i(\\nabla L_1(\\mathbf{\\theta}_i))^\\intercal=\n",
    "  \\begin{bmatrix}\\theta_{i_1}-\\gamma_i \\frac{\\partial(L_1(\\mathbf{\\theta}_i))}{\\partial \\theta_{i_1}}\\\\\n",
    "                 \\theta_{i_2}-\\gamma_i \\frac{\\partial(L_1(\\mathbf{\\theta}_i))}{\\partial \\theta_{i_2}}\\\\\n",
    "                 \\vdots \\\\\n",
    "                 \\theta_{i_m}-\\gamma_i \\frac{\\partial(L_1(\\mathbf{\\theta}_i))}{\\partial \\theta_{i_m}}\\\\\\end{bmatrix}\n",
    "                 ,\\; \\mathbf{\\theta} \\in \\mathbb{R}^m$$"
   ]
  },
  {
   "cell_type": "markdown",
   "metadata": {},
   "source": [
    "## Exercise 3\n",
    "![Exercise 3](Images/Exercise3.png)"
   ]
  },
  {
   "cell_type": "markdown",
   "metadata": {},
   "source": [
    "## Exercise 4\n",
    "![Exercise 4](Images/Exercise4.png)"
   ]
  },
  {
   "cell_type": "markdown",
   "metadata": {},
   "source": [
    "## Exercise 5\n",
    "![Exercise 5](Images/Exercise5.png)"
   ]
  },
  {
   "cell_type": "markdown",
   "metadata": {},
   "source": [
    "## Exercise 6\n",
    "![Exercise 6](Images/Exercise6.png)"
   ]
  },
  {
   "cell_type": "markdown",
   "metadata": {},
   "source": [
    "## Exercise 7\n",
    "![Exercise 7](Images/Exercise7.png)"
   ]
  },
  {
   "cell_type": "markdown",
   "metadata": {},
   "source": [
    "## Exercise 8\n",
    "![Exercise 8](Images/Exercise8.png)"
   ]
  },
  {
   "cell_type": "markdown",
   "metadata": {},
   "source": [
    "## Exercise 9\n",
    "![Exercise 9](Images/Exercise9.png)"
   ]
  },
  {
   "cell_type": "markdown",
   "metadata": {},
   "source": [
    "## Exercise 10\n",
    "![Exercise 10](Images/Exercise10.png)"
   ]
  },
  {
   "cell_type": "markdown",
   "metadata": {},
   "source": [
    "## Exercise 11\n",
    "![Exercise 11](Images/Exercise11.png)"
   ]
  }
 ],
 "metadata": {
  "language_info": {
   "name": "python"
  },
  "orig_nbformat": 4
 },
 "nbformat": 4,
 "nbformat_minor": 2
}
