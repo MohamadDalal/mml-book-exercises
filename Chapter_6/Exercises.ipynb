{
 "cells": [
  {
   "cell_type": "markdown",
   "metadata": {},
   "source": [
    "<div style=\"text-align: center;\"></div>\n",
    "\n",
    "# Chapter 6 Exercises\n"
   ]
  },
  {
   "cell_type": "markdown",
   "metadata": {},
   "source": [
    "## Exercise 1\n",
    "![Exercise 1-1](Images/Exercise1-1.png)\n",
    "![Exercise 1-2](Images/Exercise1-2.png)\n"
   ]
  },
  {
   "cell_type": "markdown",
   "metadata": {},
   "source": [
    "### Sub Exercise a\n",
    "\n",
    "The marginal distribution is found using:\n",
    "$$p(x)=\\sum_{i=1}^{3}{p(x=x, y=y_{i})}$$\n",
    "$$p(y)=\\sum_{i=1}^{5}{p(x=x_{i}, y=y)}$$\n",
    "So for x we have:\n",
    "$$p(x_{1})=\\sum_{i=1}^{3}{p(x=x{1}, y=y_{i})}=0.01+0.05+0.1 =0.16$$\n",
    "$$p(x_{2})=\\sum_{i=1}^{3}{p(x=x{2}, y=y_{i})}=0.02+0.1+0.05 =0.17$$\n",
    "$$p(x_{3})=\\sum_{i=1}^{3}{p(x=x{3}, y=y_{i})}=0.03+0.05+0.03=0.11$$\n",
    "$$p(x_{4})=\\sum_{i=1}^{3}{p(x=x{4}, y=y_{i})}=0.1+0.07+0.05 =0.22$$\n",
    "$$p(x_{5})=\\sum_{i=1}^{3}{p(x=x{5}, y=y_{i})}=0.1+0.2+0.04  =0.34$$\n",
    "And for y we have:\n",
    "$$p(y_{1})=\\sum_{i=1}^{5}{p(x=x_{i}, y=y_{1})}=0.01+0.02+0.03+0.1+0.1=0.26$$\n",
    "$$p(y_{2})=\\sum_{i=1}^{5}{p(x=x_{i}, y=y_{2})}=0.05+0.1+0.05+0.07+0.2=0.47$$\n",
    "$$p(y_{3})=\\sum_{i=1}^{5}{p(x=x_{i}, y=y_{3})}=0.1+0.05+0.03+0.05+0.04=0.27$$\n"
   ]
  },
  {
   "cell_type": "markdown",
   "metadata": {},
   "source": [
    "### Sub Exercise b\n",
    "\n",
    "For conditional probability we have:\n",
    "$$p(X=x|Y=y_{i})=\\frac{P(X=x, Y=y_{i})}{\\sum_{j=1}^{3}{P(X=x, Y=y_{j})}})$$\n",
    "$$p(Y=y|X=x_{i})=\\frac{P(X=x_{i}, Y=y)}{\\sum_{j=1}^{5}{P(X=x_{j}, Y=y)}})$$\n",
    "This gives for $p(x|Y=y_{1})$:\n",
    "\n",
    "| 0.039 | 0.077 | 0.115 | 0.385 | 0.385 |\n",
    "| ----- | ----- | ----- | ----- | ----- |\n",
    "| $x_1$ | $x_2$ | $x_3$ | $x_4$ | $x_5$ |\n",
    "\n",
    "And for $p(y|X=x_{3})$:\n",
    "\n",
    "| 0.273 | 0.455 | 0.273 |\n",
    "| ----- | ----- | ----- |\n",
    "| $y_1$ | $y_2$ | $y_3$ |"
   ]
  },
  {
   "cell_type": "markdown",
   "metadata": {},
   "source": [
    "## Exercise 2\n",
    "![Exercise 2](Images/Exercise2.png)"
   ]
  },
  {
   "cell_type": "markdown",
   "metadata": {},
   "source": [
    "### Sub Exercise a\n",
    "The marginal distribution of a continuous random variable is computed as:\n",
    "$$p(x_1)=\\int_{R_{x_2}}{p(x_1,x_2)dx_2}=\\int_{R_{x_2}}{0.4\\mathcal{N}\\left(\\begin{bmatrix}10\\\\2 \\end{bmatrix}, \\begin{bmatrix}1&0\\\\0&1\\end{bmatrix}\\right)+\n",
    "                                                       0.6\\mathcal{N}\\left(\\begin{bmatrix}0\\\\0 \\end{bmatrix}, \\begin{bmatrix}8.4&2.0\\\\2.0&1.7\\end{bmatrix}\\right)dx_2}$$\n",
    "\n",
    "$$p(x_1)=\\int_{R_{x_2}}{0.4\\mathcal{N}\\left(\\begin{bmatrix}10\\\\2 \\end{bmatrix}, \\begin{bmatrix}1&0\\\\0&1\\end{bmatrix}\\right)dx_2} +\n",
    "         \\int_{R_{x_2}}{0.6\\mathcal{N}\\left(\\begin{bmatrix}0\\\\0 \\end{bmatrix}, \\begin{bmatrix}8.4&2.0\\\\2.0&1.7\\end{bmatrix}\\right)dx_2}$$\n",
    "\n",
    "$$p(x_1)=0.4\\mathcal{N}(10,1)+0.6\\mathcal{N}(0,\\sqrt{8.4})$$\n",
    "$$p(x_2)=0.4\\mathcal{N}(2,1)+0.6\\mathcal{N}(0,\\sqrt{1.7})$$"
   ]
  },
  {
   "cell_type": "markdown",
   "metadata": {},
   "source": [
    "### Sub Exercise b\n",
    "The mean is computed as:\n",
    "$$E[x_1]=\\int_{-\\infty}^{\\infty}{x_1p(x_1)dx_1}=\\int_{-\\infty}^{\\infty}{x_1\\left(0.4\\mathcal{N}(10,1)+0.6\\mathcal{N}(0,\\sqrt{8.4})\\right)dx_1}$$\n",
    "$$E[x_1]=0.4\\int_{-\\infty}^{\\infty}{x_1\\mathcal{N}(10,1)dx_1}+0.6\\int_{-\\infty}^{\\infty}{x_1\\mathcal{N}(0,\\sqrt{8.4})dx_1}=0.4\\cdot 10+0.6 \\cdot 0=4$$\n",
    "Similarly:\n",
    "$$E[x_2]=0.4 \\cdot 2 +0.6 \\cdot 0=0.8$$\n",
    "The mode is the maximum value in the function. This can be found by differentiating and setting that differential equal to 0 to find the local maximum:\n",
    "$$\\frac{d(p(x_1))}{d(x_1)}=-0.4\\frac{x-10}{\\sqrt{2\\pi}}\\cdot e^{-\\frac{(x-10)^2}{2}}-0.6\\frac{x}{\\sqrt{2\\pi\\cdot 8.4^3}}\\cdot e^{-\\frac{x^2}{2\\cdot 8.4}}=0$$\n",
    "$$\\frac{d(p(x_1))}{d(x_1)}=0.4(x-10)\\cdot e^{-\\frac{(x-10)^2}{2}}+0.6\\frac{x}{\\sqrt{8.4^3}}\\cdot e^{-\\frac{x^2}{2\\cdot 8.4}}=0$$\n",
    "$$\\frac{d(p(x_1))}{d(x_1)}=\\left(0.4e^{-\\frac{(x-10)^2}{2}}+\\frac{0.6}{\\sqrt{8.4^3}}e^{-\\frac{x^2}{2\\cdot 8.4}}\\right)x-4e^{-\\frac{(x-10)^2}{2}}=0$$\n",
    "This looks hopeless. Might as well program my own gradient ascent:"
   ]
  },
  {
   "cell_type": "code",
   "execution_count": 25,
   "metadata": {},
   "outputs": [],
   "source": [
    "import numpy as np\n",
    "import matplotlib.pyplot as plt\n",
    "import scipy.stats as stats"
   ]
  },
  {
   "cell_type": "code",
   "execution_count": 26,
   "metadata": {},
   "outputs": [
    {
     "name": "stdout",
     "output_type": "stream",
     "text": [
      "(9.99226666497335, 0.15978882719425405)\n",
      "(1.315977056746852, 0.23660357908452534)\n"
     ]
    }
   ],
   "source": [
    "\n",
    "def ascent1(stepSize, epsilon, startVal = 10):\n",
    "    function = lambda x : 0.4*(1/np.sqrt(2*np.pi))*np.exp(-((x-10)**2)/(2))+0.6*(1/np.sqrt(2*np.pi*8.4))*np.exp(-(x**2)/(2*8.4))\n",
    "    derivative = lambda x : -0.4*((x-10)/np.sqrt(2*np.pi))*np.exp(-((x-10)**2)/(2))-0.6*(x/np.sqrt(2*np.pi*8.4**3))*np.exp(-(x**2)/(2*8.4))\n",
    "    lastVal = 0\n",
    "    xVal = startVal\n",
    "    currentVal = function(xVal)\n",
    "    while np.abs(currentVal-lastVal)>epsilon:\n",
    "        lastVal = currentVal\n",
    "        xVal += stepSize*derivative(xVal)\n",
    "        currentVal = function(xVal)\n",
    "    return (xVal, currentVal)\n",
    "\n",
    "def ascent2(stepSize, epsilon, startVal = 10):\n",
    "    function = lambda x : 0.4*(1/np.sqrt(2*np.pi))*np.exp(-((x-2)**2)/(2))+0.6*(1/np.sqrt(2*np.pi*1.7))*np.exp(-(x**2)/(2*1.7))\n",
    "    derivative = lambda x : -0.4*((x-2)/np.sqrt(2*np.pi))*np.exp(-((x-2)**2)/(2))-0.6*(x/np.sqrt(2*np.pi*1.7**3))*np.exp(-(x**2)/(2*1.7))\n",
    "    lastVal = 0\n",
    "    xVal = startVal\n",
    "    currentVal = function(xVal)\n",
    "    while np.abs(currentVal-lastVal)>epsilon:\n",
    "        lastVal = currentVal\n",
    "        xVal += stepSize*derivative(xVal)\n",
    "        currentVal = function(xVal)\n",
    "    return (xVal, currentVal)\n",
    "\n",
    "res1 = ascent1(0.1, 0.0000001, 7)\n",
    "print(res1)\n",
    "res2 = ascent2(0.1, 0.0000001, 0)\n",
    "print(res2)\n",
    "\n"
   ]
  },
  {
   "cell_type": "markdown",
   "metadata": {},
   "source": [
    "This shows that the mode of $p(x_1)$ is 10 and the mode of $p(x_2)$ is 1.316.\n",
    "\n",
    "Lastly the median is the value that satisfies:\n",
    "$$P(X<x)=\\int_{-\\infty}^{x}{p(x)dx}=0.5$$\n",
    "For this Imma just use a pre made normal distribution and then use the inverse CDF to find the value:"
   ]
  },
  {
   "cell_type": "code",
   "execution_count": 28,
   "metadata": {},
   "outputs": [
    {
     "name": "stderr",
     "output_type": "stream",
     "text": [
      "C:\\Users\\moham\\AppData\\Local\\Temp\\ipykernel_12184\\480793480.py:9: UserWarning: Matplotlib is currently using module://matplotlib_inline.backend_inline, which is a non-GUI backend, so cannot show the figure.\n",
      "  Fig1.show()\n",
      "C:\\Users\\moham\\AppData\\Local\\Temp\\ipykernel_12184\\480793480.py:17: UserWarning: Matplotlib is currently using module://matplotlib_inline.backend_inline, which is a non-GUI backend, so cannot show the figure.\n",
      "  Fig2.show()\n"
     ]
    },
    {
     "data": {
      "image/png": "[encoded data removed]",
      "text/plain": [
       "<Figure size 640x480 with 1 Axes>"
      ]
     },
     "metadata": {},
     "output_type": "display_data"
    },
    {
     "data": {
      "image/png": "[encoded data removed]",
      "text/plain": [
       "<Figure size 640x480 with 1 Axes>"
      ]
     },
     "metadata": {},
     "output_type": "display_data"
    }
   ],
   "source": [
    "RNG = np.random.default_rng(123)\n",
    "#normal1 = RNG.normal(10, 1, 1000)\n",
    "#normal2 = RNG.normal(0, np.sqrt(8.4), 1000)\n",
    "x = np.linspace(-10,20, 1000)\n",
    "#x1 = 0.4*normal1+0.6*normal2\n",
    "y1 = 0.4*stats.norm(10, 1).pdf(x) + 0.6*stats.norm(0, np.sqrt(8.4),).pdf(x)\n",
    "Fig1, ax1 = plt.subplots()\n",
    "ax1.plot(x, y1)\n",
    "Fig1.show()\n",
    "#normal3 = RNG.normal(2, 1, 1000)\n",
    "#normal4 = RNG.normal(0, np.sqrt(1.7), 1000)\n",
    "#x2 = 0.4*normal3+0.6*normal4\n",
    "#x2 = np.linspace(-10,20, 1000)\n",
    "y2 = 0.4*stats.norm(2, 1).pdf(x) + 0.6*stats.norm(0, np.sqrt(1.7),).pdf(x)\n",
    "Fig2, ax2 = plt.subplots()\n",
    "ax2.plot(x, y2)\n",
    "Fig2.show()"
   ]
  },
  {
   "cell_type": "markdown",
   "metadata": {},
   "source": [
    "## Exercise 3\n",
    "![Exercise 3](Images/Exercise3.png)"
   ]
  },
  {
   "cell_type": "markdown",
   "metadata": {},
   "source": [
    "## Exercise 4\n",
    "![Exercise 4](Images/Exercise4.png)"
   ]
  },
  {
   "cell_type": "markdown",
   "metadata": {},
   "source": [
    "## Exercise 5\n",
    "![Exercise 5-1](Images/Exercise5-1.png)\n",
    "![Exercise 5-2](Images/Exercise5-2.png)"
   ]
  },
  {
   "cell_type": "markdown",
   "metadata": {},
   "source": [
    "## Exercise 6\n",
    "![Exercise 6](Images/Exercise6.png)"
   ]
  },
  {
   "cell_type": "markdown",
   "metadata": {},
   "source": [
    "## Exercise 7\n",
    "![Exercise 7](Images/Exercise7.png)"
   ]
  },
  {
   "cell_type": "markdown",
   "metadata": {},
   "source": [
    "## Exercise 8\n",
    "![Exercise 8](Images/Exercise8.png)"
   ]
  },
  {
   "cell_type": "markdown",
   "metadata": {},
   "source": [
    "## Exercise 9\n",
    "![Exercise 9](Images/Exercise9.png)"
   ]
  },
  {
   "cell_type": "markdown",
   "metadata": {},
   "source": [
    "## Exercise 10\n",
    "![Exercise 10](Images/Exercise10.png)"
   ]
  },
  {
   "cell_type": "markdown",
   "metadata": {},
   "source": [
    "## Exercise 11\n",
    "![Exercise 11](Images/Exercise11.png)"
   ]
  },
  {
   "cell_type": "markdown",
   "metadata": {},
   "source": [
    "## Exercise 12\n",
    "![Exercise 12-1](Images/Exercise12-1.png)\n",
    "![Exercise 12-2](Images/Exercise12-2.png)"
   ]
  },
  {
   "cell_type": "markdown",
   "metadata": {},
   "source": [
    "## Exercise 13\n",
    "![Exercise 13](Images/Exercise13.png)"
   ]
  }
 ],
 "metadata": {
  "kernelspec": {
   "display_name": "Python 3",
   "language": "python",
   "name": "python3"
  },
  "language_info": {
   "codemirror_mode": {
    "name": "ipython",
    "version": 3
   },
   "file_extension": ".py",
   "mimetype": "text/x-python",
   "name": "python",
   "nbconvert_exporter": "python",
   "pygments_lexer": "ipython3",
   "version": "3.11.4"
  },
  "orig_nbformat": 4
 },
 "nbformat": 4,
 "nbformat_minor": 2
}
