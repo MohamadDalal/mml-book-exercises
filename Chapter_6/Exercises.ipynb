{
 "cells": [
  {
   "cell_type": "markdown",
   "metadata": {},
   "source": [
    "<div style=\"text-align: center;\"></div>\n",
    "\n",
    "# Chapter 6 Exercises\n"
   ]
  },
  {
   "cell_type": "markdown",
   "metadata": {},
   "source": [
    "## Exercise 1\n",
    "![Exercise 1-1](Images/Exercise1-1.png)\n",
    "![Exercise 1-2](Images/Exercise1-2.png)\n"
   ]
  },
  {
   "cell_type": "markdown",
   "metadata": {},
   "source": [
    "### Sub Exercise a\n",
    "\n",
    "The marginal distribution is found using:\n",
    "$$p(x)=\\sum_{i=1}^{3}{p(x=x, y=y_{i})}$$\n",
    "$$p(y)=\\sum_{i=1}^{5}{p(x=x_{i}, y=y)}$$\n",
    "So for x we have:\n",
    "$$p(x_{1})=\\sum_{i=1}^{3}{p(x=x{1}, y=y_{i})}=0.01+0.05+0.1 =0.16$$\n",
    "$$p(x_{2})=\\sum_{i=1}^{3}{p(x=x{2}, y=y_{i})}=0.02+0.1+0.05 =0.17$$\n",
    "$$p(x_{3})=\\sum_{i=1}^{3}{p(x=x{3}, y=y_{i})}=0.03+0.05+0.03=0.11$$\n",
    "$$p(x_{4})=\\sum_{i=1}^{3}{p(x=x{4}, y=y_{i})}=0.1+0.07+0.05 =0.22$$\n",
    "$$p(x_{5})=\\sum_{i=1}^{3}{p(x=x{5}, y=y_{i})}=0.1+0.2+0.04  =0.34$$\n",
    "And for y we have:\n",
    "$$p(y_{1})=\\sum_{i=1}^{5}{p(x=x_{i}, y=y_{1})}=0.01+0.02+0.03+0.1+0.1=0.26$$\n",
    "$$p(y_{2})=\\sum_{i=1}^{5}{p(x=x_{i}, y=y_{2})}=0.05+0.1+0.05+0.07+0.2=0.47$$\n",
    "$$p(y_{3})=\\sum_{i=1}^{5}{p(x=x_{i}, y=y_{3})}=0.1+0.05+0.03+0.05+0.04=0.27$$\n"
   ]
  },
  {
   "cell_type": "markdown",
   "metadata": {},
   "source": [
    "### Sub Exercise b\n",
    "\n",
    "For conditional probability we have:\n",
    "$$p(X=x|Y=y_{i})=\\frac{P(X=x, Y=y_{i})}{\\sum_{j=1}^{3}{P(X=x, Y=y_{j})}})$$\n",
    "$$p(Y=y|X=x_{i})=\\frac{P(X=x_{i}, Y=y)}{\\sum_{j=1}^{5}{P(X=x_{j}, Y=y)}})$$\n",
    "This gives for $p(x|Y=y_{1})$:\n",
    "\n",
    "| 0.039 | 0.077 | 0.115 | 0.385 | 0.385 |\n",
    "| ----- | ----- | ----- | ----- | ----- |\n",
    "| $x_1$ | $x_2$ | $x_3$ | $x_4$ | $x_5$ |\n",
    "\n",
    "And for $p(y|X=x_{3})$:\n",
    "\n",
    "| 0.273 | 0.455 | 0.273 |\n",
    "| ----- | ----- | ----- |\n",
    "| $y_1$ | $y_2$ | $y_3$ |"
   ]
  },
  {
   "cell_type": "markdown",
   "metadata": {},
   "source": [
    "## Exercise 2\n",
    "![Exercise 2](Images/Exercise2.png)"
   ]
  },
  {
   "cell_type": "markdown",
   "metadata": {},
   "source": [
    "## Exercise 3\n",
    "![Exercise 3](Images/Exercise3.png)"
   ]
  },
  {
   "cell_type": "markdown",
   "metadata": {},
   "source": [
    "## Exercise 4\n",
    "![Exercise 4](Images/Exercise4.png)"
   ]
  },
  {
   "cell_type": "markdown",
   "metadata": {},
   "source": [
    "## Exercise 5\n",
    "![Exercise 5-1](Images/Exercise5-1.png)\n",
    "![Exercise 5-2](Images/Exercise5-2.png)"
   ]
  },
  {
   "cell_type": "markdown",
   "metadata": {},
   "source": [
    "## Exercise 6\n",
    "![Exercise 6](Images/Exercise6.png)"
   ]
  },
  {
   "cell_type": "markdown",
   "metadata": {},
   "source": [
    "## Exercise 7\n",
    "![Exercise 7](Images/Exercise7.png)"
   ]
  },
  {
   "cell_type": "markdown",
   "metadata": {},
   "source": [
    "## Exercise 8\n",
    "![Exercise 8](Images/Exercise8.png)"
   ]
  },
  {
   "cell_type": "markdown",
   "metadata": {},
   "source": [
    "## Exercise 9\n",
    "![Exercise 9](Images/Exercise9.png)"
   ]
  },
  {
   "cell_type": "markdown",
   "metadata": {},
   "source": [
    "## Exercise 10\n",
    "![Exercise 10](Images/Exercise10.png)"
   ]
  },
  {
   "cell_type": "markdown",
   "metadata": {},
   "source": [
    "## Exercise 11\n",
    "![Exercise 11](Images/Exercise11.png)"
   ]
  },
  {
   "cell_type": "markdown",
   "metadata": {},
   "source": [
    "## Exercise 12\n",
    "![Exercise 12-1](Images/Exercise12-1.png)\n",
    "![Exercise 12-2](Images/Exercise12-2.png)"
   ]
  },
  {
   "cell_type": "markdown",
   "metadata": {},
   "source": [
    "## Exercise 13\n",
    "![Exercise 13](Images/Exercise13.png)"
   ]
  }
 ],
 "metadata": {
  "language_info": {
   "name": "python"
  },
  "orig_nbformat": 4
 },
 "nbformat": 4,
 "nbformat_minor": 2
}
